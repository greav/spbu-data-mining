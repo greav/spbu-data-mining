{
 "cells": [
  {
   "cell_type": "code",
   "execution_count": 1,
   "metadata": {
    "slideshow": {
     "slide_type": "slide"
    }
   },
   "outputs": [],
   "source": [
    "%load_ext autoreload\n",
    "%autoreload 2"
   ]
  },
  {
   "cell_type": "code",
   "execution_count": 6,
   "metadata": {
    "slideshow": {
     "slide_type": "slide"
    }
   },
   "outputs": [],
   "source": [
    "import json\n",
    "from src.coordinator import Coordinator\n",
    "from src.utils.preprocessing import TextPreprocessor\n",
    "import pandas as pd"
   ]
  },
  {
   "cell_type": "code",
   "execution_count": 7,
   "metadata": {},
   "outputs": [],
   "source": [
    "coord = Coordinator()"
   ]
  },
  {
   "cell_type": "code",
   "execution_count": 8,
   "metadata": {},
   "outputs": [
    {
     "name": "stdout",
     "output_type": "stream",
     "text": [
      "britneyspears 5116\n",
      "arianagrande 14018\n",
      "rihanna 9623\n",
      "justinbieber 14000\n",
      "katyperry 8880\n",
      "theellenshow 14000\n",
      "selenagomez 4276\n",
      "cnnbrk 14000\n",
      "twitter 10730\n",
      "kimkardashian 14000\n",
      "taylorswift13 420\n",
      "ladygaga 7615\n",
      "realdonaldtrump 13999\n",
      "barackobama 7059\n",
      "narendramodi 14000\n",
      "jtimberlake 3320\n",
      "shakira 5408\n",
      "youtube 14000\n",
      "jimmyfallon 11632\n",
      "cristiano 3251\n",
      "TOTAL: 189347\n"
     ]
    }
   ],
   "source": [
    "dataset = pd.DataFrame()\n",
    "for file_path in coord.data_raw.iterdir():\n",
    "    if file_path.name.endswith('jsonl'):\n",
    "        user = file_path.stem\n",
    "        user_df = pd.read_json(file_path, lines=True)\n",
    "        dataset = dataset.append(user_df, ignore_index=True)\n",
    "        print(user, user_df.shape[0])\n",
    "print('TOTAL:', dataset.shape[0])"
   ]
  },
  {
   "cell_type": "code",
   "execution_count": 9,
   "metadata": {},
   "outputs": [
    {
     "data": {
      "text/html": [
       "<div>\n",
       "<style scoped>\n",
       "    .dataframe tbody tr th:only-of-type {\n",
       "        vertical-align: middle;\n",
       "    }\n",
       "\n",
       "    .dataframe tbody tr th {\n",
       "        vertical-align: top;\n",
       "    }\n",
       "\n",
       "    .dataframe thead th {\n",
       "        text-align: right;\n",
       "    }\n",
       "</style>\n",
       "<table border=\"1\" class=\"dataframe\">\n",
       "  <thead>\n",
       "    <tr style=\"text-align: right;\">\n",
       "      <th></th>\n",
       "      <th>tweet_id</th>\n",
       "      <th>user</th>\n",
       "      <th>time_epoch</th>\n",
       "      <th>tweet</th>\n",
       "      <th>n_likes</th>\n",
       "      <th>n_retweets</th>\n",
       "      <th>n_replies</th>\n",
       "      <th>n_emojies</th>\n",
       "      <th>hashtags</th>\n",
       "      <th>mentions</th>\n",
       "    </tr>\n",
       "  </thead>\n",
       "  <tbody>\n",
       "    <tr>\n",
       "      <th>0</th>\n",
       "      <td>1247643096596111362</td>\n",
       "      <td>britneyspears</td>\n",
       "      <td>1586296268</td>\n",
       "      <td>Enough said 😜🧼🧼🌸🌸🌸🌸 and thank you to all of th...</td>\n",
       "      <td>86426</td>\n",
       "      <td>25499</td>\n",
       "      <td>960</td>\n",
       "      <td>5</td>\n",
       "      <td>[#worldhealthday, #thankshealthheroes]</td>\n",
       "      <td>[]</td>\n",
       "    </tr>\n",
       "    <tr>\n",
       "      <th>1</th>\n",
       "      <td>1243706495793074182</td>\n",
       "      <td>britneyspears</td>\n",
       "      <td>1585357710</td>\n",
       "      <td>Oops!…how did 20 years go by so fast 😅😅🙄 ?! I ...</td>\n",
       "      <td>122851</td>\n",
       "      <td>16256</td>\n",
       "      <td>2212</td>\n",
       "      <td>8</td>\n",
       "      <td>[]</td>\n",
       "      <td>[]</td>\n",
       "    </tr>\n",
       "    <tr>\n",
       "      <th>2</th>\n",
       "      <td>1243668424674459648</td>\n",
       "      <td>britneyspears</td>\n",
       "      <td>1585348633</td>\n",
       "      <td>Happy Birthday @MariahCarey !! You are one of ...</td>\n",
       "      <td>61079</td>\n",
       "      <td>7634</td>\n",
       "      <td>1345</td>\n",
       "      <td>1</td>\n",
       "      <td>[]</td>\n",
       "      <td>[mariahcarey]</td>\n",
       "    </tr>\n",
       "  </tbody>\n",
       "</table>\n",
       "</div>"
      ],
      "text/plain": [
       "              tweet_id           user  time_epoch  \\\n",
       "0  1247643096596111362  britneyspears  1586296268   \n",
       "1  1243706495793074182  britneyspears  1585357710   \n",
       "2  1243668424674459648  britneyspears  1585348633   \n",
       "\n",
       "                                               tweet  n_likes  n_retweets  \\\n",
       "0  Enough said 😜🧼🧼🌸🌸🌸🌸 and thank you to all of th...    86426       25499   \n",
       "1  Oops!…how did 20 years go by so fast 😅😅🙄 ?! I ...   122851       16256   \n",
       "2  Happy Birthday @MariahCarey !! You are one of ...    61079        7634   \n",
       "\n",
       "   n_replies  n_emojies                                hashtags       mentions  \n",
       "0        960          5  [#worldhealthday, #thankshealthheroes]             []  \n",
       "1       2212          8                                      []             []  \n",
       "2       1345          1                                      []  [mariahcarey]  "
      ]
     },
     "execution_count": 9,
     "metadata": {},
     "output_type": "execute_result"
    }
   ],
   "source": [
    "dataset.head(3)"
   ]
  },
  {
   "cell_type": "code",
   "execution_count": 10,
   "metadata": {},
   "outputs": [
    {
     "name": "stdout",
     "output_type": "stream",
     "text": [
      "<class 'pandas.core.frame.DataFrame'>\n",
      "RangeIndex: 189347 entries, 0 to 189346\n",
      "Data columns (total 10 columns):\n",
      " #   Column      Non-Null Count   Dtype \n",
      "---  ------      --------------   ----- \n",
      " 0   tweet_id    189347 non-null  int64 \n",
      " 1   user        189347 non-null  object\n",
      " 2   time_epoch  189347 non-null  int64 \n",
      " 3   tweet       189347 non-null  object\n",
      " 4   n_likes     189347 non-null  int64 \n",
      " 5   n_retweets  189347 non-null  int64 \n",
      " 6   n_replies   189347 non-null  int64 \n",
      " 7   n_emojies   189347 non-null  int64 \n",
      " 8   hashtags    189347 non-null  object\n",
      " 9   mentions    189347 non-null  object\n",
      "dtypes: int64(6), object(4)\n",
      "memory usage: 14.4+ MB\n"
     ]
    }
   ],
   "source": [
    "dataset.info()"
   ]
  },
  {
   "cell_type": "markdown",
   "metadata": {},
   "source": [
    "## 1. Remove all links and pictures in a tweet"
   ]
  },
  {
   "cell_type": "code",
   "execution_count": 11,
   "metadata": {},
   "outputs": [],
   "source": [
    "preprocessor = TextPreprocessor()"
   ]
  },
  {
   "cell_type": "code",
   "execution_count": 12,
   "metadata": {},
   "outputs": [
    {
     "data": {
      "text/plain": [
       "0    110729\n",
       "1     77069\n",
       "2      1435\n",
       "3        98\n",
       "4        13\n",
       "5         3\n",
       "Name: tweet, dtype: int64"
      ]
     },
     "execution_count": 12,
     "metadata": {},
     "output_type": "execute_result"
    }
   ],
   "source": [
    "dataset['tweet'].apply(lambda tweet: len(preprocessor.url_rgx.findall(tweet))).value_counts()"
   ]
  },
  {
   "cell_type": "code",
   "execution_count": 13,
   "metadata": {},
   "outputs": [
    {
     "data": {
      "text/plain": [
       "0    132941\n",
       "1     56401\n",
       "2         5\n",
       "Name: tweet, dtype: int64"
      ]
     },
     "execution_count": 13,
     "metadata": {},
     "output_type": "execute_result"
    }
   ],
   "source": [
    "dataset['tweet'].apply(lambda tweet: len(preprocessor.pic_rgx.findall(tweet))).value_counts()"
   ]
  },
  {
   "cell_type": "markdown",
   "metadata": {},
   "source": [
    "**Drop links from tweet**"
   ]
  },
  {
   "cell_type": "code",
   "execution_count": 14,
   "metadata": {},
   "outputs": [
    {
     "data": {
      "text/plain": [
       "(0    189347\n",
       " Name: tweet, dtype: int64,\n",
       " 0    189347\n",
       " Name: tweet, dtype: int64)"
      ]
     },
     "execution_count": 14,
     "metadata": {},
     "output_type": "execute_result"
    }
   ],
   "source": [
    "dataset['tweet'] = dataset['tweet'].apply(lambda tweet: preprocessor.clean_links(tweet))\n",
    "dataset['tweet'].apply(lambda tweet: len(preprocessor.pic_rgx.findall(tweet))).value_counts(), \\\n",
    "dataset['tweet'].apply(lambda tweet: len(preprocessor.url_rgx.findall(tweet))).value_counts()"
   ]
  },
  {
   "cell_type": "markdown",
   "metadata": {},
   "source": [
    "## 2. Remove emojis in a tweet"
   ]
  },
  {
   "cell_type": "code",
   "execution_count": 22,
   "metadata": {},
   "outputs": [
    {
     "data": {
      "text/plain": [
       "0    117162\n",
       "Name: tweet, dtype: int64"
      ]
     },
     "execution_count": 22,
     "metadata": {},
     "output_type": "execute_result"
    }
   ],
   "source": [
    "dataset['tweet'] = dataset['tweet'].apply(lambda tweet: preprocessor.clean_emojis(tweet))\n",
    "dataset['tweet'].apply(lambda tweet: len(preprocessor.emoji_rgx.findall(tweet))).value_counts()"
   ]
  },
  {
   "cell_type": "markdown",
   "metadata": {},
   "source": [
    "## 3. Drop tweets with less than 50 characters"
   ]
  },
  {
   "cell_type": "markdown",
   "metadata": {},
   "source": [
    "**Number of tweets with less than 50 characters and more than 50 characters respectively**"
   ]
  },
  {
   "cell_type": "code",
   "execution_count": 23,
   "metadata": {},
   "outputs": [
    {
     "data": {
      "text/plain": [
       "287"
      ]
     },
     "execution_count": 23,
     "metadata": {},
     "output_type": "execute_result"
    }
   ],
   "source": [
    "dataset[dataset['tweet'].apply(lambda tweet: sum(len(token) for token in tweet.split()) < 50)].shape[0]"
   ]
  },
  {
   "cell_type": "code",
   "execution_count": 24,
   "metadata": {},
   "outputs": [
    {
     "data": {
      "text/plain": [
       "116875"
      ]
     },
     "execution_count": 24,
     "metadata": {},
     "output_type": "execute_result"
    }
   ],
   "source": [
    "dataset = dataset[dataset['tweet'].apply(lambda tweet: sum(len(token) for token in tweet.split()) >= 50)]\n",
    "dataset.shape[0]"
   ]
  },
  {
   "cell_type": "code",
   "execution_count": 25,
   "metadata": {},
   "outputs": [
    {
     "data": {
      "text/plain": [
       "user\n",
       "arianagrande        4308\n",
       "barackobama         6357\n",
       "britneyspears       3159\n",
       "cnnbrk             13814\n",
       "cristiano           2016\n",
       "jimmyfallon         8110\n",
       "jtimberlake         2195\n",
       "justinbieber        5084\n",
       "katyperry           5585\n",
       "kimkardashian       5676\n",
       "ladygaga            5461\n",
       "narendramodi       12636\n",
       "realdonaldtrump    11616\n",
       "rihanna             4890\n",
       "selenagomez         2281\n",
       "shakira             4387\n",
       "taylorswift13        218\n",
       "theellenshow       10141\n",
       "twitter             1840\n",
       "youtube             7101\n",
       "dtype: int64"
      ]
     },
     "execution_count": 25,
     "metadata": {},
     "output_type": "execute_result"
    }
   ],
   "source": [
    "dataset.groupby('user').size()"
   ]
  },
  {
   "cell_type": "code",
   "execution_count": 26,
   "metadata": {},
   "outputs": [
    {
     "data": {
      "text/html": [
       "<div>\n",
       "<style scoped>\n",
       "    .dataframe tbody tr th:only-of-type {\n",
       "        vertical-align: middle;\n",
       "    }\n",
       "\n",
       "    .dataframe tbody tr th {\n",
       "        vertical-align: top;\n",
       "    }\n",
       "\n",
       "    .dataframe thead th {\n",
       "        text-align: right;\n",
       "    }\n",
       "</style>\n",
       "<table border=\"1\" class=\"dataframe\">\n",
       "  <thead>\n",
       "    <tr style=\"text-align: right;\">\n",
       "      <th></th>\n",
       "      <th>tweet_id</th>\n",
       "      <th>user</th>\n",
       "      <th>time_epoch</th>\n",
       "      <th>tweet</th>\n",
       "      <th>n_likes</th>\n",
       "      <th>n_retweets</th>\n",
       "      <th>n_replies</th>\n",
       "      <th>n_emojies</th>\n",
       "      <th>hashtags</th>\n",
       "      <th>mentions</th>\n",
       "    </tr>\n",
       "  </thead>\n",
       "  <tbody>\n",
       "    <tr>\n",
       "      <th>0</th>\n",
       "      <td>1247643096596111362</td>\n",
       "      <td>britneyspears</td>\n",
       "      <td>1586296268</td>\n",
       "      <td>Enough said 🧼🧼 and thank you to all of the hea...</td>\n",
       "      <td>86426</td>\n",
       "      <td>25499</td>\n",
       "      <td>960</td>\n",
       "      <td>5</td>\n",
       "      <td>[#worldhealthday, #thankshealthheroes]</td>\n",
       "      <td>[]</td>\n",
       "    </tr>\n",
       "    <tr>\n",
       "      <th>1</th>\n",
       "      <td>1243706495793074182</td>\n",
       "      <td>britneyspears</td>\n",
       "      <td>1585357710</td>\n",
       "      <td>Oops!…how did 20 years go by so fast  ?! I can...</td>\n",
       "      <td>122851</td>\n",
       "      <td>16256</td>\n",
       "      <td>2212</td>\n",
       "      <td>8</td>\n",
       "      <td>[]</td>\n",
       "      <td>[]</td>\n",
       "    </tr>\n",
       "    <tr>\n",
       "      <th>2</th>\n",
       "      <td>1243668424674459648</td>\n",
       "      <td>britneyspears</td>\n",
       "      <td>1585348633</td>\n",
       "      <td>Happy Birthday @MariahCarey !! You are one of ...</td>\n",
       "      <td>61079</td>\n",
       "      <td>7634</td>\n",
       "      <td>1345</td>\n",
       "      <td>1</td>\n",
       "      <td>[]</td>\n",
       "      <td>[mariahcarey]</td>\n",
       "    </tr>\n",
       "  </tbody>\n",
       "</table>\n",
       "</div>"
      ],
      "text/plain": [
       "              tweet_id           user  time_epoch  \\\n",
       "0  1247643096596111362  britneyspears  1586296268   \n",
       "1  1243706495793074182  britneyspears  1585357710   \n",
       "2  1243668424674459648  britneyspears  1585348633   \n",
       "\n",
       "                                               tweet  n_likes  n_retweets  \\\n",
       "0  Enough said 🧼🧼 and thank you to all of the hea...    86426       25499   \n",
       "1  Oops!…how did 20 years go by so fast  ?! I can...   122851       16256   \n",
       "2  Happy Birthday @MariahCarey !! You are one of ...    61079        7634   \n",
       "\n",
       "   n_replies  n_emojies                                hashtags       mentions  \n",
       "0        960          5  [#worldhealthday, #thankshealthheroes]             []  \n",
       "1       2212          8                                      []             []  \n",
       "2       1345          1                                      []  [mariahcarey]  "
      ]
     },
     "execution_count": 26,
     "metadata": {},
     "output_type": "execute_result"
    }
   ],
   "source": [
    "dataset.head(3)"
   ]
  },
  {
   "cell_type": "code",
   "execution_count": 31,
   "metadata": {},
   "outputs": [],
   "source": [
    "dataset.to_json(coord.data_interim / 'dataset_v1.jsonl', lines=True, orient='records')"
   ]
  },
  {
   "cell_type": "markdown",
   "metadata": {},
   "source": [
    "## 4. Preprocessing demonstraion on a few examples"
   ]
  },
  {
   "cell_type": "code",
   "execution_count": 27,
   "metadata": {},
   "outputs": [],
   "source": [
    "preprocessor = TextPreprocessor()"
   ]
  },
  {
   "cell_type": "code",
   "execution_count": 28,
   "metadata": {},
   "outputs": [
    {
     "data": {
      "text/plain": [
       "array(['Enough said\\xa0🧼🧼\\xa0and thank you to all of the healthcare workers tirelessly working to keep us safe during this time !!!! #WorldHealthDay #ThanksHealthHeroes',\n",
       "       'Oops!…how did 20 years go by so fast\\xa0\\xa0?! I can’t believe it. I remember that red suit was so freaking hot … but the dance was fun\\xa0\\xa0and it made the shoot fly by !!! You have all shown so much support for this song & I thank you for it … sending love to you all\\xa0️️️\\xa0!!',\n",
       "       'Happy Birthday @MariahCarey !! You are one of the main reasons I started singing ... your Butterfly 🦋 album never gets old even after 20+ years … it’s simply a classic and I will be listening to it today as I work out in the gym !!! Have a wonderful birthday\\xa0🦋\\xa0!!! God bless.',\n",
       "       'Listen to the new @y2k2y and @_AlexanderLewis remix of #Toxic, released today in celebration of the opening of @BritneyTheZone!   \\xa0 @RCARecords',\n",
       "       'Coming soon !!!!  I can’t wait to see all of the pics you guys take at @britneythezone .... it’s going to be so fun !!! Hope you’re having a happy Saturday so far friends ',\n",
       "       'My daddy loves Mitch, @MonsterEnergy, and @NASCAR… and we both can’t wait to see this movie.\\xa0\\xa0Congrats to everyone involved! It opens Sept 12 ',\n",
       "       'Can you believe that this album was released 20 years ago today?! I can’t. It’s been the journey of a lifetime, but I’m grateful for every moment. Getting to know you all over the years has been such an incredible experience. Thank you for all your support ️ #BabyOneMoreTime20',\n",
       "       'I appreciate your prayers and support for my family during this time. Thank you, and love you all… always.',\n",
       "       'I had to make the difficult decision to put my full focus and energy on my family at this time. I hope you all can understand. More information on ticket refunds is available on   \\xa0.',\n",
       "       'However, it’s important to always put your family first… and that’s the decision I had to make. A couple of months ago, my father was hospitalized and almost died. We’re all so grateful that he came out of it alive, but he still has a long road ahead of him.'],\n",
       "      dtype=object)"
      ]
     },
     "execution_count": 28,
     "metadata": {},
     "output_type": "execute_result"
    }
   ],
   "source": [
    "examples = dataset['tweet'].iloc[:10].values\n",
    "examples"
   ]
  },
  {
   "cell_type": "code",
   "execution_count": 29,
   "metadata": {},
   "outputs": [
    {
     "name": "stdout",
     "output_type": "stream",
     "text": [
      "Enough said 🧼🧼 and thank you to all of the healthcare workers tirelessly working to keep us safe during this time !!!! #WorldHealthDay #ThanksHealthHeroes\n",
      "['healthcare', 'worker', 'tirelessly', 'work', 'safe', 'time', 'worldhealthday', 'thankshealthheroes']\n",
      "\n",
      "Oops!…how did 20 years go by so fast  ?! I can’t believe it. I remember that red suit was so freaking hot … but the dance was fun  and it made the shoot fly by !!! You have all shown so much support for this song & I thank you for it … sending love to you all ️️️ !!\n",
      "['oops', 'year', 'fast', 'remember', 'red', 'suit', 'freak', 'hot', 'dance', 'fun', 'shoot', 'fly', 'support', 'song', 'send', 'love']\n",
      "\n",
      "Happy Birthday @MariahCarey !! You are one of the main reasons I started singing ... your Butterfly 🦋 album never gets old even after 20+ years … it’s simply a classic and I will be listening to it today as I work out in the gym !!! Have a wonderful birthday 🦋 !!! God bless.\n",
      "['happy', 'birthday', 'mariahcarey', 'main', 'reason', 'start', 'sing', 'butterfly', 'album', 'year', 'simply', 'classic', 'listen', 'today', 'work', 'gym', 'wonderful', 'birthday', 'god', 'bless']\n",
      "\n",
      "Listen to the new @y2k2y and @_AlexanderLewis remix of #Toxic, released today in celebration of the opening of @BritneyTheZone!     @RCARecords\n",
      "['listen', 'yky', '_alexanderlewis', 'remix', 'toxic', 'release', 'today', 'celebration', 'opening', 'britneythezone', 'rcarecords']\n",
      "\n",
      "Coming soon !!!!  I can’t wait to see all of the pics you guys take at @britneythezone .... it’s going to be so fun !!! Hope you’re having a happy Saturday so far friends \n",
      "['wait', 'pic', 'guy', 'britneythezone', 'fun', 'hope', 'happy', 'saturday', 'friend']\n",
      "\n",
      "My daddy loves Mitch, @MonsterEnergy, and @NASCAR… and we both can’t wait to see this movie.  Congrats to everyone involved! It opens Sept 12 \n",
      "['daddy', 'love', 'mitch', 'monsterenergy', 'nascar', 'wait', 'movie', 'congrats', 'involve', 'open', 'sept']\n",
      "\n",
      "Can you believe that this album was released 20 years ago today?! I can’t. It’s been the journey of a lifetime, but I’m grateful for every moment. Getting to know you all over the years has been such an incredible experience. Thank you for all your support ️ #BabyOneMoreTime20\n",
      "['album', 'release', 'year', 'today', 'journey', 'lifetime', 'grateful', 'moment', 'year', 'incredible', 'experience', 'support', 'babyonemoretime']\n",
      "\n",
      "I appreciate your prayers and support for my family during this time. Thank you, and love you all… always.\n",
      "['prayer', 'support', 'family', 'time', 'love']\n",
      "\n",
      "I had to make the difficult decision to put my full focus and energy on my family at this time. I hope you all can understand. More information on ticket refunds is available on    .\n",
      "['difficult', 'decision', 'focus', 'energy', 'family', 'time', 'hope', 'understand', 'ticket', 'refund']\n",
      "\n",
      "However, it’s important to always put your family first… and that’s the decision I had to make. A couple of months ago, my father was hospitalized and almost died. We’re all so grateful that he came out of it alive, but he still has a long road ahead of him.\n",
      "['family', 'decision', 'couple', 'month', 'father', 'hospitalize', 'die', 'grateful', 'alive', 'long', 'road']\n",
      "\n"
     ]
    }
   ],
   "source": [
    "for example in examples:\n",
    "    print(example)\n",
    "    print(preprocessor(example))\n",
    "    print()"
   ]
  },
  {
   "cell_type": "code",
   "execution_count": null,
   "metadata": {},
   "outputs": [],
   "source": []
  }
 ],
 "metadata": {
  "kernelspec": {
   "display_name": "information_retrieval",
   "language": "python",
   "name": "information_retrieval"
  },
  "toc": {
   "base_numbering": 1,
   "nav_menu": {},
   "number_sections": true,
   "sideBar": true,
   "skip_h1_title": false,
   "title_cell": "Table of Contents",
   "title_sidebar": "Contents",
   "toc_cell": false,
   "toc_position": {},
   "toc_section_display": true,
   "toc_window_display": false
  },
  "varInspector": {
   "cols": {
    "lenName": 16,
    "lenType": 16,
    "lenVar": 40
   },
   "kernels_config": {
    "python": {
     "delete_cmd_postfix": "",
     "delete_cmd_prefix": "del ",
     "library": "var_list.py",
     "varRefreshCmd": "print(var_dic_list())"
    },
    "r": {
     "delete_cmd_postfix": ") ",
     "delete_cmd_prefix": "rm(",
     "library": "var_list.r",
     "varRefreshCmd": "cat(var_dic_list()) "
    }
   },
   "types_to_exclude": [
    "module",
    "function",
    "builtin_function_or_method",
    "instance",
    "_Feature"
   ],
   "window_display": false
  }
 },
 "nbformat": 4,
 "nbformat_minor": 4
}
